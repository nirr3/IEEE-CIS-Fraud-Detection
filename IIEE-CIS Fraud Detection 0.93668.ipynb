{
 "cells": [
  {
   "cell_type": "markdown",
   "metadata": {},
   "source": [
    "# IEEE-CIS Fraud Detection\n",
    "\n",
    "## Business Understanding\n",
    "\n",
    "Imagine standing at the check-out counter at the grocery store with a long line behind you and the cashier not-so-quietly announces that your card has been declined. In this moment, you probably aren’t thinking about the data science that determined your fate.\n",
    "\n",
    "Embarrassed, and certain you have the funds to cover everything needed for an epic nacho party for 50 of your closest friends, you try your card again. Same result. As you step aside and allow the cashier to tend to the next customer, you receive a text message from your bank. “Press 1 if you really tried to spend $500 on cheddar cheese.”\n",
    "\n",
    "While perhaps cumbersome (and often embarrassing) in the moment, this fraud prevention system is actually saving consumers millions of dollars per year. Researchers from the IEEE Computational Intelligence Society (IEEE-CIS) want to improve this figure, while also improving the customer experience. With higher accuracy fraud detection, you can get on with your chips without the hassle.\n",
    "\n",
    "IEEE-CIS works across a variety of AI and machine learning areas, including deep neural networks, fuzzy systems, evolutionary computation, and swarm intelligence. Today they’re partnering with the world’s leading payment service company, Vesta Corporation, seeking the best solutions for fraud prevention industry, and now you are invited to join the challenge.\n",
    "\n",
    "In this competition, you’ll benchmark machine learning models on a challenging large-scale dataset. The data comes from Vesta's real-world e-commerce transactions and contains a wide range of features from device type to product features. You also have the opportunity to create new features to improve your results.\n",
    "\n",
    "If successful, you’ll improve the efficacy of fraudulent transaction alerts for millions of people around the world, helping hundreds of thousands of businesses reduce their fraud loss and increase their revenue. And of course, you will save party people just like you the hassle of false positives."
   ]
  },
  {
   "cell_type": "code",
   "execution_count": 2,
   "metadata": {},
   "outputs": [],
   "source": [
    "## Import libraries\n",
    "import numpy as np\n",
    "import pandas as pd\n",
    "import matplotlib.pyplot as plt\n",
    "import seaborn as sns\n",
    "from sklearn import base\n",
    "import pickle\n",
    "import re\n",
    "from sklearn.model_selection import RandomizedSearchCV, GridSearchCV, cross_val_score, StratifiedKFold, learning_curve, KFold, train_test_split\n",
    "from sklearn.metrics import roc_auc_score, confusion_matrix\n",
    "import lightgbm as lgb\n"
   ]
  },
  {
   "cell_type": "code",
   "execution_count": null,
   "metadata": {},
   "outputs": [],
   "source": [
    "## Read files in\n",
    "train_identity = pd.read_csv('train_identity.csv')\n",
    "train_transactions = pd.read_csv('train_transaction.csv',dtype={'TransactionAmt': object})\n",
    "test_identity = pd.read_csv('test_identity.csv')\n",
    "test_transactions = pd.read_csv('test_transaction.csv',dtype={'TransactionAmt': object})\n",
    "\n",
    "## Left joining transactions to identity for train and test\n",
    "train_df = pd.merge(train_transactions,train_identity, how = 'left', on = \"TransactionID\")\n",
    "test_df = pd.merge(test_transactions,test_identity, how = 'left', on = \"TransactionID\")"
   ]
  },
  {
   "cell_type": "code",
   "execution_count": null,
   "metadata": {},
   "outputs": [],
   "source": [
    "train_df['train_data'] = 1\n",
    "test_df['train_data'] =0\n",
    "test_df['isFraud'] = 0"
   ]
  },
  {
   "cell_type": "code",
   "execution_count": null,
   "metadata": {},
   "outputs": [],
   "source": [
    "df = pd.concat([train_df,test_df],sort =True)"
   ]
  },
  {
   "cell_type": "code",
   "execution_count": null,
   "metadata": {
    "scrolled": true
   },
   "outputs": [],
   "source": [
    "df.to_pickle('df.pickle')"
   ]
  },
  {
   "cell_type": "code",
   "execution_count": null,
   "metadata": {},
   "outputs": [],
   "source": [
    "df= pd.read_pickle('df.pickle')"
   ]
  },
  {
   "cell_type": "markdown",
   "metadata": {},
   "source": [
    "## Data Understanding\n"
   ]
  },
  {
   "cell_type": "markdown",
   "metadata": {},
   "source": [
    "Lynn@Vesta provided some additional background of some of the information\n",
    "\n",
    "https://www.kaggle.com/c/ieee-fraud-detection/discussion/101203#latest-614363\n",
    "\n",
    "#### Transaction Table\n",
    "* TransactionDT: timedelta from a given reference datetime (not an actual timestamp)\n",
    "* TransactionAMT: transaction payment amount in USD\n",
    "* ProductCD: product code, the product for each transaction\n",
    "* card1 - card6: payment card information, such as card type, card category, issue bank, country, etc.\n",
    "* addr: address\n",
    "* dist: distance\n",
    "* P_ and (R__) emaildomain: purchaser and recipient email domain\n",
    "* C1-C14: counting, such as how many addresses are found to be associated with the payment card, etc. The actual meaning is masked.\n",
    "* D1-D15: timedelta, such as days between previous transaction, etc.\n",
    "* M1-M9: match, such as names on card and address, etc.\n",
    "* Vxxx: Vesta engineered rich features, including ranking, counting, and other entity relations.\n",
    "\n",
    "###### Categorical Features:\n",
    "* ProductCD\n",
    "* card1 - card6\n",
    "* addr1, addr2\n",
    "        addr1 as billing region\n",
    "        addr2 as billing country\n",
    "* Pemaildomain Remaildomain\n",
    "* M1 - M9\n",
    "\n",
    "#### Identity Table *\n",
    "Variables in this table are identity information – network connection information (IP, ISP, Proxy, etc) and digital signature (UA/browser/os/version, etc) associated with transactions. \n",
    "They're collected by Vesta’s fraud protection system and digital security partners.\n",
    "(The field names are masked and pairwise dictionary will not be provided for privacy protection and contract agreement)\n",
    "\n",
    "##### Categorical Features:\n",
    "* DeviceType\n",
    "* DeviceInfo\n",
    "* id12 - id38\n",
    "\n",
    "\n",
    "id01 to id11 are numerical features for identity, which is collected by Vesta and security partners such as device rating, ip_domain rating, proxy rating, etc. Also it recorded behavioral fingerprint like account login times/failed to login times, how long an account stayed on the page, etc."
   ]
  },
  {
   "cell_type": "markdown",
   "metadata": {},
   "source": [
    "#### High Level Attribute Overview"
   ]
  },
  {
   "cell_type": "code",
   "execution_count": null,
   "metadata": {
    "scrolled": false
   },
   "outputs": [],
   "source": [
    "df.shape"
   ]
  },
  {
   "cell_type": "code",
   "execution_count": null,
   "metadata": {
    "scrolled": true
   },
   "outputs": [],
   "source": [
    "df.head()"
   ]
  },
  {
   "cell_type": "code",
   "execution_count": null,
   "metadata": {},
   "outputs": [],
   "source": [
    "df.describe(include = 'all')"
   ]
  },
  {
   "cell_type": "code",
   "execution_count": null,
   "metadata": {
    "scrolled": true
   },
   "outputs": [],
   "source": [
    "## NULL values as a percentage for each column.\n",
    "\n",
    "null_df = df.isna().sum() /df.shape[0]\n",
    "null_df[null_df >0]"
   ]
  },
  {
   "cell_type": "markdown",
   "metadata": {},
   "source": [
    "## Attribute Analysis"
   ]
  },
  {
   "cell_type": "code",
   "execution_count": null,
   "metadata": {},
   "outputs": [],
   "source": [
    "## Create a list for the V features\n",
    "V_columns = []\n",
    "for each in range(1,340):\n",
    "    V_columns.append(\"V\" + str(each))\n",
    "\n",
    "## Create a list for the M features\n",
    "M_columns = []\n",
    "for each in range(1,10):\n",
    "    M_columns.append(\"M\" + str(each))\n",
    "\n",
    "## Create a list for the C features\n",
    "C_columns = []\n",
    "for each in range(1,10):\n",
    "    C_columns.append(\"C\" + str(each))"
   ]
  },
  {
   "cell_type": "code",
   "execution_count": null,
   "metadata": {},
   "outputs": [],
   "source": [
    "## Create some features that count the number of nulls in the rows before we replace them later\n",
    "\n",
    "df['Total_Nulls'] = df.isnull().sum(axis=1)\n",
    "df['V_Nulls'] = df[V_columns].isnull().sum(axis=1)\n",
    "df['M_Nulls'] = df[M_columns].isnull().sum(axis=1)\n",
    "df['C_Nulls'] = df[C_columns].isnull().sum(axis=1)\n",
    "df['Card_Nulls'] = df[['card1','card2','card3','card4','card4','card5','card6']].isnull().sum(axis=1)"
   ]
  },
  {
   "cell_type": "markdown",
   "metadata": {},
   "source": [
    "### Card1-6\n",
    "\n",
    "Categorical Features with information such as payment card information, such as card type, card category, issue bank, country, etc.\n",
    "\n",
    "\n",
    "For card2 we can replace it with the mode for the grouped value in card1"
   ]
  },
  {
   "cell_type": "code",
   "execution_count": null,
   "metadata": {},
   "outputs": [],
   "source": [
    "for each in ['card1','card2','card3','card4','card5','card6']:\n",
    "    print(each, \"- NULLs: \",df[each].isna().sum())"
   ]
  },
  {
   "cell_type": "code",
   "execution_count": null,
   "metadata": {},
   "outputs": [],
   "source": [
    "df['card2'].isna().sum()"
   ]
  },
  {
   "cell_type": "markdown",
   "metadata": {},
   "source": [
    "#### Card3"
   ]
  },
  {
   "cell_type": "code",
   "execution_count": null,
   "metadata": {},
   "outputs": [],
   "source": [
    "df['card3'].isna().sum()"
   ]
  },
  {
   "cell_type": "markdown",
   "metadata": {},
   "source": [
    "#### Card4"
   ]
  },
  {
   "cell_type": "code",
   "execution_count": null,
   "metadata": {
    "scrolled": true
   },
   "outputs": [],
   "source": [
    "sns.countplot(x=\"card4\", data=df)"
   ]
  },
  {
   "cell_type": "markdown",
   "metadata": {},
   "source": [
    "#### Card6"
   ]
  },
  {
   "cell_type": "code",
   "execution_count": null,
   "metadata": {},
   "outputs": [],
   "source": [
    "sns.countplot(x=\"card6\", data=df)"
   ]
  },
  {
   "cell_type": "code",
   "execution_count": null,
   "metadata": {},
   "outputs": [],
   "source": [
    "## Handling null Values in card 1-6\n",
    "for each in ['card1','card2','card3','card5']:\n",
    "    df[each].fillna(0, inplace= True)\n",
    "\n",
    "for each in ['card4','card6']:\n",
    "    df[each].fillna('Unknown', inplace= True)"
   ]
  },
  {
   "cell_type": "code",
   "execution_count": null,
   "metadata": {},
   "outputs": [],
   "source": [
    "### Create unique ID's\n",
    "df['card1_card2'] = df['card1'].astype(str)+'_'+df['card2'].astype(str)\n",
    "df['card_1_card2_card3_card4'] = df['card1_card2'].astype(str)+'_'+df['card3'].astype(str)+'_'+df['card5'].astype(str)\n",
    "df['card_1_card2_card3_card4_addr1_addr2'] = df['card_1_card2_card3_card4'].astype(str)+'_'+df['addr1'].astype(str)+'_'+df['addr2'].astype(str)"
   ]
  },
  {
   "cell_type": "markdown",
   "metadata": {},
   "source": [
    "#### ProductCD"
   ]
  },
  {
   "cell_type": "code",
   "execution_count": null,
   "metadata": {},
   "outputs": [],
   "source": [
    "df['ProductCD'].isna().sum()"
   ]
  },
  {
   "cell_type": "code",
   "execution_count": null,
   "metadata": {
    "scrolled": false
   },
   "outputs": [],
   "source": [
    "sns.countplot(x=\"ProductCD\", data=df)"
   ]
  },
  {
   "cell_type": "markdown",
   "metadata": {},
   "source": [
    "#### addr1, addr2, dist1, dist2\n",
    "\n",
    "These columns have a couple of nulls in them. For addr1 and addr2, we will fill the na with 0 since these are categorical variables.\n",
    "\n",
    "For dist1, dist2, we will instead use the mean since these are numeric"
   ]
  },
  {
   "cell_type": "code",
   "execution_count": null,
   "metadata": {},
   "outputs": [],
   "source": [
    "### Replace na with 0 for addr1 and addr2\n",
    "df['addr1'].fillna(value =0, inplace=True)\n",
    "df['addr2'].fillna(value =0, inplace=True)"
   ]
  },
  {
   "cell_type": "code",
   "execution_count": null,
   "metadata": {},
   "outputs": [],
   "source": [
    "### Replace na with mean for dist1 and dist2\n",
    "df['dist1'].fillna(value = df['dist1'].mean(),inplace= True)\n",
    "df['dist2'].fillna(value = df['dist2'].mean(),inplace= True)"
   ]
  },
  {
   "cell_type": "markdown",
   "metadata": {},
   "source": [
    "#### P_emaildomain and R_emaildomain\n",
    "\n",
    "These attributes correspond to the purcharsers email and the recipients email"
   ]
  },
  {
   "cell_type": "code",
   "execution_count": null,
   "metadata": {},
   "outputs": [],
   "source": [
    "### Lets fill the nas with a category called None.None\n",
    "df['P_emaildomain'].fillna(value = 'None.None', inplace = True)\n",
    "df['R_emaildomain'].fillna(value = 'None.None', inplace = True)"
   ]
  },
  {
   "cell_type": "code",
   "execution_count": null,
   "metadata": {},
   "outputs": [],
   "source": [
    "### Split the email domain into two based on the period, which will allow for groping the Yahoo's together etc\n",
    "new = df['P_emaildomain'].str.split('.',n=1,expand=True)\n",
    "df['P_domain_first_str'] = new[0]\n",
    "df['P_domain_last_str'] = new[1]\n",
    "df['P_domain_last_str'].fillna(value = 'None', inplace=True)"
   ]
  },
  {
   "cell_type": "code",
   "execution_count": null,
   "metadata": {},
   "outputs": [],
   "source": [
    "new = df['R_emaildomain'].str.split('.',n=1,expand=True)\n",
    "df['R_domain_first_str'] = new[0]\n",
    "df['R_domain_last_str'] = new[1]\n",
    "df['R_domain_last_str'].fillna(value = 'None', inplace=True)"
   ]
  },
  {
   "cell_type": "code",
   "execution_count": null,
   "metadata": {},
   "outputs": [],
   "source": [
    "df['Same_Email'] = np.where(df['P_emaildomain'] == df['R_emaildomain'],1,0)"
   ]
  },
  {
   "cell_type": "code",
   "execution_count": null,
   "metadata": {},
   "outputs": [],
   "source": []
  },
  {
   "cell_type": "markdown",
   "metadata": {},
   "source": [
    "#### M1-M9\n",
    "Match, such as names on card and address, etc.v"
   ]
  },
  {
   "cell_type": "code",
   "execution_count": null,
   "metadata": {
    "scrolled": true
   },
   "outputs": [],
   "source": [
    "for each in ['M1','M2','M3','M4','M5','M6','M7','M8','M9']:\n",
    "    print(each,\"is missing\",df[each].isna().sum(), \"attributes\")"
   ]
  },
  {
   "cell_type": "code",
   "execution_count": null,
   "metadata": {},
   "outputs": [],
   "source": [
    "sns.countplot(x=\"M3\", data=df)"
   ]
  },
  {
   "cell_type": "code",
   "execution_count": null,
   "metadata": {},
   "outputs": [],
   "source": [
    "### Filling each of the M values (except M4) with the false value with the assumptions that the company would capture true matches better\n",
    "for each in ['M1','M2','M3','M5','M6','M7','M8','M9']:\n",
    "    #df[each].fillna(value = 'F', inplace= True)  #maybe the nulls are important. Trying something new belo\n",
    "    df[each].fillna(value = 'M', inplace= True)"
   ]
  },
  {
   "cell_type": "code",
   "execution_count": null,
   "metadata": {},
   "outputs": [],
   "source": [
    "sns.countplot(x=\"M4\", data=df)"
   ]
  },
  {
   "cell_type": "code",
   "execution_count": null,
   "metadata": {},
   "outputs": [],
   "source": [
    "#replacing M4 nulls with the mode of M0\n",
    "df['M4'].fillna(value = 'M0',inplace= True)"
   ]
  },
  {
   "cell_type": "markdown",
   "metadata": {},
   "source": [
    "#### Device type and Info"
   ]
  },
  {
   "cell_type": "code",
   "execution_count": null,
   "metadata": {},
   "outputs": [],
   "source": [
    "df['id_33'].describe()"
   ]
  },
  {
   "cell_type": "code",
   "execution_count": null,
   "metadata": {
    "scrolled": true
   },
   "outputs": [],
   "source": [
    "df['DeviceType'].isna().sum()"
   ]
  },
  {
   "cell_type": "code",
   "execution_count": null,
   "metadata": {
    "scrolled": true
   },
   "outputs": [],
   "source": [
    "sns.countplot(x=\"DeviceType\", data=df)"
   ]
  },
  {
   "cell_type": "code",
   "execution_count": null,
   "metadata": {},
   "outputs": [],
   "source": [
    "for each in ['id_12','id_15','id_16','id_23','id_27','id_28', 'id_29','id_34',\n",
    "             'id_35','id_35','id_36','id_37','id_38']:\n",
    "    df[each].fillna(value = 'Unknown', inplace = True)"
   ]
  },
  {
   "cell_type": "code",
   "execution_count": null,
   "metadata": {},
   "outputs": [],
   "source": [
    "for each in ['id_13','id_14','id_17','id_18','id_19','id_20','id_21','id_22','id_24','id_25','id_26','id_32']:\n",
    "    df[each].fillna(value = -1, inplace = True)"
   ]
  },
  {
   "cell_type": "code",
   "execution_count": null,
   "metadata": {},
   "outputs": [],
   "source": [
    "## For id_33 which seems to be screen resolution, we will make it zeroxzero\n",
    "df['id_33'].fillna(\"0x0\",inplace =True)"
   ]
  },
  {
   "cell_type": "markdown",
   "metadata": {},
   "source": [
    "#### C1-C14 \n",
    "counting, such as how many addresses are found to be associated with the payment card, etc. The actual meaning is masked."
   ]
  },
  {
   "cell_type": "code",
   "execution_count": null,
   "metadata": {},
   "outputs": [],
   "source": [
    "### Filling each of the C values with 0 because absense of value is most likely because of zeros\n",
    "## changing data type to int as well\n",
    "for each in ['C1','C2','C3','C4','C5','C6','C7','C8','C9','C10','C11','C12','C13','C14']:\n",
    "    df[each].fillna(value = 0, inplace= True)\n",
    "    df[each]= df[each].astype('int')"
   ]
  },
  {
   "cell_type": "markdown",
   "metadata": {},
   "source": [
    "#### D1-D15\n",
    " timedelta, such as days between previous transaction, etc"
   ]
  },
  {
   "cell_type": "code",
   "execution_count": null,
   "metadata": {},
   "outputs": [],
   "source": [
    "### https://www.kaggle.com/kabure/extensive-eda-and-modeling-xgb-hyperopt\n",
    "\n",
    "import datetime\n",
    "\n",
    "START_DATE = '2018-01-01'\n",
    "startdate = datetime.datetime.strptime(START_DATE, \"%Y-%m-%d\")\n",
    "df[\"Date\"] = df['TransactionDT'].apply(lambda x: (startdate + datetime.timedelta(seconds=x)))\n",
    "\n",
    "df['_Weekdays'] = df['Date'].dt.dayofweek\n",
    "df['_Hours'] = df['Date'].dt.hour\n",
    "df['_Days'] = df['Date'].dt.day\n",
    "df['_Month'] = df['Date'].dt.month\n",
    "df['_Minute'] = df['Date'].dt.minute"
   ]
  },
  {
   "cell_type": "code",
   "execution_count": null,
   "metadata": {},
   "outputs": [],
   "source": [
    "### replace all D1-D12 with 9999\n",
    "for each in ['D1','D2','D3','D4','D5','D6','D7','D8','D9','D9','D10','D11','D12','D13','D14','D15']:\n",
    "    df[each].fillna(value = 9999, inplace = True)"
   ]
  },
  {
   "cell_type": "markdown",
   "metadata": {},
   "source": [
    "#### ID_01 - ID_11\n",
    "\n",
    "https://www.kaggle.com/c/ieee-fraud-detection/discussion/101203#latest-614363\n",
    "\n",
    "“id01 to id11 are numerical features for identity, which is collected by Vesta and security partners such as device rating, ip_domain rating, proxy rating, etc. Also it recorded behavioral fingerprint like account login times/failed to login times, how long an account stayed on the page, etc. All of these are not able to elaborate due to security partner T&C. I hope you could get basic meaning of these features, and by mentioning them as numerical/categorical, you won't deal with them inappropriately.”"
   ]
  },
  {
   "cell_type": "code",
   "execution_count": null,
   "metadata": {},
   "outputs": [],
   "source": [
    "### Replace all null values in the id_01-id_11 columns with 999 since there may be importance to their missingness\n",
    "for each in ['id_01','id_02','id_03','id_04','id_05','id_06','id_07','id_08','id_09','id_10','id_11']:\n",
    "    df[each].fillna(-9999, inplace= True)"
   ]
  },
  {
   "cell_type": "code",
   "execution_count": null,
   "metadata": {},
   "outputs": [],
   "source": [
    "## Replace all null values in the V1-125 as the median\n",
    "for each in range(1,340):\n",
    "    a = (\"V\" + str(each))\n",
    "    df[a].fillna(value = df[a].median(), inplace =True)"
   ]
  },
  {
   "cell_type": "markdown",
   "metadata": {},
   "source": [
    "### Feature Engineering\n"
   ]
  },
  {
   "cell_type": "code",
   "execution_count": null,
   "metadata": {},
   "outputs": [],
   "source": [
    "\n",
    "for each in ['DeviceType','DeviceInfo','id_30','id_31']:\n",
    "    df[each].fillna('Unknown', inplace =True)"
   ]
  },
  {
   "cell_type": "markdown",
   "metadata": {},
   "source": [
    "##### Transaction Amount"
   ]
  },
  {
   "cell_type": "code",
   "execution_count": null,
   "metadata": {},
   "outputs": [],
   "source": [
    "### We read in transaction amount as a string to get the number of decimals. Store the original string as a new variable and\n",
    "### make the original one a float\n",
    "df['TransactionAmt_decimal_length'] = df['TransactionAmt']\n",
    "df['TransactionAmt'] = df['TransactionAmt'].astype('float')\n",
    "\n",
    "### Log transform transaction amount\n",
    "df['TransactionAmt_Log'] = np.log1p(df['TransactionAmt'])\n",
    "\n",
    "## Extract the length of the decimals from tranasction amount\n",
    "df['TransactionAmt_decimal_length'] = df['TransactionAmt_decimal_length'].str.split('.', expand= True)[1]\n",
    "df['TransactionAmt_decimal_length'] = df['TransactionAmt_decimal_length'].apply(len)\n",
    "\n",
    "# https://www.kaggle.com/davidcairuz/feature-engineering-lightgbm-corrected/output\n",
    "\n",
    "# New feature - decimal part of the transaction amount.\n",
    "df['TransactionAmt_decimal'] = ((df['TransactionAmt'] - df['TransactionAmt'].astype(int)) * 1000).astype(int)"
   ]
  },
  {
   "cell_type": "code",
   "execution_count": null,
   "metadata": {},
   "outputs": [],
   "source": [
    "### Create mean std by some of the card features and other unique id's we identified\n",
    "list_of_columns = ['card1','card1_card2','card_1_card2_card3_card4','card_1_card2_card3_card4_addr1_addr2','card2','card3','card4','id_02','D15','ProductCD']\n",
    "#df['key'] = df[each].astype(str) +'_'+ df['TransactionAmt'].astype(str)\n",
    "\n",
    "for each in list_of_columns:\n",
    "    df[each+'_trx_amt_mean'] = df.groupby(each)['TransactionAmt'].transform('mean')\n",
    "    df[each+'_trx_amt_std'] =  df.groupby(each)['TransactionAmt'].transform('std')\n",
    "### Create a count of number of transaction by unique ID and transaction amount\n",
    "    #df[each+'_trx_amt_ctd'] = df.groupby('key')['C1'].transform('count')\n",
    "\n",
    "#df.drop('key', axis = 1)"
   ]
  },
  {
   "cell_type": "code",
   "execution_count": null,
   "metadata": {},
   "outputs": [],
   "source": [
    "\n"
   ]
  },
  {
   "cell_type": "code",
   "execution_count": null,
   "metadata": {
    "scrolled": true
   },
   "outputs": [],
   "source": [
    "null_df = df.isna().sum() /df.shape[0]\n",
    "null_df[null_df >0]"
   ]
  },
  {
   "cell_type": "code",
   "execution_count": null,
   "metadata": {},
   "outputs": [],
   "source": [
    "### Some of the std columns have nulls. fill them with global std of transaction amount\n",
    "std_columns = ['card1_trx_amt_std', 'card1_card2_trx_amt_std', 'card_1_card2_card3_card4_trx_amt_std'\n",
    "              , 'card_1_card2_card3_card4_addr1_addr2_trx_amt_std','card3_trx_amt_std', 'id_02_trx_amt_std', 'D15_trx_amt_std']\n",
    "for each in std_columns:\n",
    "    df[each].fillna(np.std(df['TransactionAmt']), inplace =True)"
   ]
  },
  {
   "cell_type": "code",
   "execution_count": null,
   "metadata": {},
   "outputs": [],
   "source": [
    "df['Trx_Amt_Delta_ProdCD'] = (df['TransactionAmt']-df['ProductCD_trx_amt_mean'])/ df['ProductCD_trx_amt_std']\n",
    "df['Trx_Amt_Delta_card1'] = (df['TransactionAmt']-df['card1_trx_amt_mean'])/ df['card1_trx_amt_std']\n",
    "df['Trx_Amt_Delta_card_1_card2_card3_card4'] = (df['TransactionAmt']-df['card_1_card2_card3_card4_trx_amt_mean'])/ df['card_1_card2_card3_card4_trx_amt_std']\n",
    "df['Trx_Amt_Delta_id_02'] = (df['TransactionAmt']-df['id_02_trx_amt_mean'])/ df['id_02_trx_amt_std']"
   ]
  },
  {
   "cell_type": "code",
   "execution_count": null,
   "metadata": {},
   "outputs": [],
   "source": [
    "### Fill the rest of the columns with the mean\n",
    "for each in null_df[null_df >0].index:\n",
    "    df[each].fillna(df[each].mean, inplace =True)"
   ]
  },
  {
   "cell_type": "code",
   "execution_count": null,
   "metadata": {
    "scrolled": true
   },
   "outputs": [],
   "source": [
    "null_df = df.isna().sum() /df.shape[0]\n",
    "null_df[null_df >0]"
   ]
  },
  {
   "cell_type": "code",
   "execution_count": null,
   "metadata": {},
   "outputs": [],
   "source": [
    "### Columns to drop\n",
    "\n",
    "columns_to_drop = ['card1_card2','card_1_card2_card3_card4','card_1_card2_card3_card4_addr1_addr2']\n",
    "df= df.drop(columns_to_drop, axis = 1)"
   ]
  },
  {
   "cell_type": "code",
   "execution_count": null,
   "metadata": {},
   "outputs": [],
   "source": [
    "## ## list of attributes we will target and frequency encode\n",
    "target_encoded_list = []\n",
    "for each in df.columns:\n",
    "    if df[each].dtype == 'object':\n",
    "        target_encoded_list.append(each)"
   ]
  },
  {
   "cell_type": "code",
   "execution_count": null,
   "metadata": {
    "scrolled": true
   },
   "outputs": [],
   "source": [
    "## Frequency encoding\n",
    "#https://www.kaggle.com/kyakovlev/ieee-gb-2-make-amount-useful-again\n",
    "\n",
    "for col in target_encoded_list:\n",
    "    print(col)\n",
    "#     temp_df = pd.concat([df[[col]], df[[col]]])\n",
    "    fq_encode = df[col].value_counts(dropna=False).to_dict()   \n",
    "    df[col+'_fq_enc'] = df[col].map(fq_encode)"
   ]
  },
  {
   "cell_type": "code",
   "execution_count": null,
   "metadata": {},
   "outputs": [],
   "source": [
    "df.to_pickle('df6.pickle')"
   ]
  },
  {
   "cell_type": "markdown",
   "metadata": {},
   "source": [
    "## Train, Validation and Test Splitting\n",
    "\n",
    "It looks like the train testing split is based on transaction data and as such we will split our training data based on time."
   ]
  },
  {
   "cell_type": "code",
   "execution_count": null,
   "metadata": {
    "scrolled": true
   },
   "outputs": [],
   "source": [
    "df= pd.read_pickle('df6.pickle')"
   ]
  },
  {
   "cell_type": "code",
   "execution_count": null,
   "metadata": {},
   "outputs": [],
   "source": [
    "X_train = df[(df['train_data']==1)]\n"
   ]
  },
  {
   "cell_type": "code",
   "execution_count": null,
   "metadata": {},
   "outputs": [],
   "source": [
    "X_test = df[(df['train_data']==0)]"
   ]
  },
  {
   "cell_type": "markdown",
   "metadata": {},
   "source": [
    "## Target Encoding\n",
    "\n",
    "### Why do we target encode? \n",
    "\n",
    "Gradient boosted tree-based models such as XGBoost and LightGBM have a hard time handling high cardinality categorical variables. Target Encoding helps with that and can help improve the model performance. \n",
    "\n",
    "### Why do we need to reguralize?\n",
    "\n",
    "Simply calculating the averages of the target variables can cause overfitting and often reduces the models ability to be generalized. \n",
    "\n",
    "#### Regularization Techniques:\n",
    "\n",
    " - Cross Validation Loop inside training data\n",
    " - Smoothing\n",
    " - Adding Random Noise\n",
    " - Sorting and Calculating expanding mean\n",
    "\n",
    "We will only do cross-validation Loop inside our training data. To get started, we will define two helper function that I picked up from https://medium.com/@pouryaayria/k-fold-target-encoding-dfe9a594874b\n",
    "\n"
   ]
  },
  {
   "cell_type": "code",
   "execution_count": null,
   "metadata": {},
   "outputs": [],
   "source": [
    "## Helper Function to KFold Mean encoding\n",
    "class KFoldTargetEncoderTrain(base.BaseEstimator,\n",
    "                               base.TransformerMixin):\n",
    "    def __init__(self,colnames,targetName,\n",
    "                  n_fold=5, verbosity=True,\n",
    "                  discardOriginal_col=False):\n",
    "        self.colnames = colnames\n",
    "        self.targetName = targetName\n",
    "        self.n_fold = n_fold\n",
    "        self.verbosity = verbosity\n",
    "        self.discardOriginal_col = discardOriginal_col\n",
    "    def fit(self, X, y=None):\n",
    "        return self\n",
    "    def transform(self,X):\n",
    "        assert(type(self.targetName) == str)\n",
    "        assert(type(self.colnames) == str)\n",
    "        assert(self.colnames in X.columns)\n",
    "        assert(self.targetName in X.columns)\n",
    "        mean_of_target = X[self.targetName].mean()\n",
    "        kf = KFold(n_splits = self.n_fold,\n",
    "                   shuffle = False, random_state=2019)\n",
    "        col_mean_name = self.colnames + '_' + 'Kfold_Target_Enc'\n",
    "        X[col_mean_name] = np.nan\n",
    "        for tr_ind, val_ind in kf.split(X):\n",
    "            X_tr, X_val = X.iloc[tr_ind], X.iloc[val_ind]\n",
    "            X.loc[X.index[val_ind], col_mean_name] = X_val[self.colnames].map(X_tr.groupby(self.colnames)[self.targetName].mean())\n",
    "            X[col_mean_name].fillna(mean_of_target, inplace = True)\n",
    "        if self.verbosity:\n",
    "            encoded_feature = X[col_mean_name].values\n",
    "            print('Correlation between the new feature, {} and, {} is {}.'.format(col_mean_name,self.targetName,                    \n",
    "                   np.corrcoef(X[self.targetName].values,\n",
    "                               encoded_feature)[0][1]))\n",
    "        if self.discardOriginal_col:\n",
    "            X = X.drop(self.targetName, axis=1)\n",
    "        return X\n",
    "\n",
    "    \n",
    "## Helper function to get the Kfold Mean encoded on the test set\n",
    "\n",
    "class KFoldTargetEncoderTest(base.BaseEstimator, base.TransformerMixin):\n",
    "    \n",
    "    def __init__(self,train,colNames,encodedName):\n",
    "        \n",
    "        self.train = train\n",
    "        self.colNames = colNames\n",
    "        self.encodedName = encodedName\n",
    "        \n",
    "    def fit(self, X, y=None):\n",
    "        return self\n",
    "    def transform(self,X):\n",
    "        mean =  self.train[[self.colNames,\n",
    "                self.encodedName]].groupby(\n",
    "                                self.colNames).mean().reset_index() \n",
    "        \n",
    "        dd = {}\n",
    "        for index, row in mean.iterrows():\n",
    "            dd[row[self.colNames]] = row[self.encodedName]\n",
    "        X[self.encodedName] = X[self.colNames]\n",
    "        X = X.replace({self.encodedName: dd})\n",
    "        return X"
   ]
  },
  {
   "cell_type": "code",
   "execution_count": null,
   "metadata": {},
   "outputs": [],
   "source": [
    "### For some of the variables we need to encode, they have zero as the value and their kfold score would also be zero\n",
    "#### This confuses the replace function, so we need to adjust them before\n",
    "for each in target_encoded_list:\n",
    "    #X_valid.loc[X_valid[each] == 0.0, each] = -999\n",
    "    X_train.loc[X_train[each] == 0.0, each] = -999\n",
    "    X_test.loc[X_test[each] == 0.0, each] = -999\n"
   ]
  },
  {
   "cell_type": "code",
   "execution_count": null,
   "metadata": {
    "scrolled": true
   },
   "outputs": [],
   "source": [
    "### Loops through the target list\n",
    "for each in target_encoded_list:\n",
    "    targetc = KFoldTargetEncoderTrain(each,'isFraud',n_fold=3)\n",
    "    X_train = targetc.fit_transform(X_train)\n",
    "    a_name = (str(each)+\"_Kfold_Target_Enc\")\n",
    "    test_targetc = KFoldTargetEncoderTest(X_train,each,a_name)\n",
    "    #X_valid = test_targetc.fit_transform(X_valid)\n",
    "    X_test = test_targetc.fit_transform(X_test)\n"
   ]
  },
  {
   "cell_type": "markdown",
   "metadata": {},
   "source": [
    "## Trouble Columns... NEED SOME WORK"
   ]
  },
  {
   "cell_type": "code",
   "execution_count": 21,
   "metadata": {},
   "outputs": [],
   "source": [
    "## Some columns had unseeen values. Since we wouldn't know what their mean was, we simply need to apply the global target mean from our train set\n",
    "\n",
    "\n",
    "problem_columns = ['P_domain_first_str_Kfold_Target_Enc', 'P_domain_last_str_Kfold_Target_Enc', 'P_emaildomain_Kfold_Target_Enc','id_30_Kfold_Target_Enc'\n",
    "                   , 'id_31_Kfold_Target_Enc', 'id_33_Kfold_Target_Enc', 'DeviceInfo_Kfold_Target_Enc'\n",
    "                   , 'DeviceInfo_Kfold_Target_Enc']"
   ]
  },
  {
   "cell_type": "code",
   "execution_count": null,
   "metadata": {},
   "outputs": [],
   "source": [
    "y= X_train['isFraud']"
   ]
  },
  {
   "cell_type": "code",
   "execution_count": null,
   "metadata": {
    "scrolled": true
   },
   "outputs": [],
   "source": [
    "for each in X_train.columns:\n",
    "    print(X_train[each].dtype)"
   ]
  },
  {
   "cell_type": "code",
   "execution_count": null,
   "metadata": {},
   "outputs": [],
   "source": [
    "### Drop all object columns\n",
    "object_columns = []\n",
    "for each in X_train.columns:\n",
    "    if X_train[each].dtype == 'object':\n",
    "        object_columns.append(each)\n",
    "\n",
    "X_train= X_train.drop(object_columns, axis = 1)\n",
    "X_test= X_test.drop(object_columns, axis = 1)\n"
   ]
  },
  {
   "cell_type": "code",
   "execution_count": 22,
   "metadata": {},
   "outputs": [],
   "source": [
    "\n",
    "for each in problem_columns:\n",
    "    X_test[each] = pd.to_numeric(X_test[each],errors = 'coerce')\n",
    "    X_test[each].fillna(np.mean(y), inplace =True)"
   ]
  },
  {
   "cell_type": "markdown",
   "metadata": {},
   "source": [
    "## Machine Learning Goal\n",
    "\n",
    "Correctly classify transactions as fraud or not fraud for unlabelled data in the test set. Evaluation metric is AUC"
   ]
  },
  {
   "cell_type": "markdown",
   "metadata": {},
   "source": [
    "## Modeling"
   ]
  },
  {
   "cell_type": "markdown",
   "metadata": {},
   "source": [
    "LightGBM is a gradient boosting framework that uses tree based learning algorithms. It is designed to be distributed and efficient with the following advantages:\n",
    "\n",
    "- Faster training speed and higher efficiency.\n",
    "- Lower memory usage.\n",
    "- Better accuracy.\n",
    "- Support of parallel and GPU learning.\n",
    "- Capable of handling large-scale data.\n",
    "- For more details, please refer to Features.\n",
    "\n",
    "\n",
    "LightGBM really good at handling datasets larger than 100K records, and does so realatively fast compared to XGBoost. \n",
    "\n",
    "https://lightgbm.readthedocs.io/en/latest/"
   ]
  },
  {
   "cell_type": "markdown",
   "metadata": {},
   "source": [
    "Like most boosted models, we will need to tune our hyper-paremeters. These are the ones that I had the most success with, but it does not mean that they are the \"ultimate\" ones.\n",
    "\n",
    "Generally speaking, I follow the guidance of the documentations:\n",
    "\n",
    "LightGBM uses the leaf-wise tree growth algorithm, while many other popular tools use depth-wise tree growth. Compared with depth-wise growth, the leaf-wise algorithm can converge much faster. However, the leaf-wise growth may be over-fitting if not used with the appropriate parameters.\n",
    "\n",
    "To get good results using a leaf-wise tree, these are some important parameters:\n",
    "\n",
    "__num_leaves.__ This is the main parameter to control the complexity of the tree model. Theoretically, we can set num_leaves = 2^(max_depth) to obtain the same number of leaves as depth-wise tree. However, this simple conversion is not good in practice. The reason is that a leaf-wise tree is typically much deeper than a depth-wise tree for a fixed number of leaves. Unconstrained depth can induce over-fitting. Thus, when trying to tune the num_leaves, we should let it be smaller than 2^(max_depth). For example, when the max_depth=7 the depth-wise tree can get good accuracy, but setting num_leaves to 127 may cause over-fitting, and setting it to 70 or 80 may get better accuracy than depth-wise.\n",
    "\n",
    "__min_data_in_leaf.__ This is a very important parameter to prevent over-fitting in a leaf-wise tree. Its optimal value depends on the number of training samples and num_leaves. Setting it to a large value can avoid growing too deep a tree, but may cause under-fitting. In practice, setting it to hundreds or thousands is enough for a large dataset.\n",
    "max_depth. You also can use max_depth to limit the tree depth explicitly."
   ]
  },
  {
   "cell_type": "code",
   "execution_count": null,
   "metadata": {},
   "outputs": [],
   "source": [
    "X_train.to_pickle('X_train_lgb_crs_val.pickle')\n",
    "X_test.to_pickle('X_test_lgb_crs_val.pickle')\n",
    "y.to_pickle('ytrain.pickle')\n",
    "#test_id_to_be_used.to_pickle('test_id.pickle')"
   ]
  },
  {
   "cell_type": "code",
   "execution_count": null,
   "metadata": {},
   "outputs": [],
   "source": [
    "X_train = pd.read_pickle('X_train_lgb_crs_val.pickle')\n",
    "X_test = pd.read_pickle('X_test_lgb_crs_val.pickle')\n",
    "y = pd.read_pickle('ytrain.pickle')"
   ]
  },
  {
   "cell_type": "code",
   "execution_count": null,
   "metadata": {},
   "outputs": [],
   "source": []
  },
  {
   "cell_type": "code",
   "execution_count": null,
   "metadata": {},
   "outputs": [],
   "source": [
    "## Drop some columns not needed for modeling\n",
    "Drop_em = ['TransactionAmt','TransactionDT','TransactionID','Date', 'isFraud']\n",
    "#Drop_em = ['isFraud']\n",
    "X_train= X_train.drop(Drop_em, axis = 1)\n",
    "X_test= X_test.drop(Drop_em, axis = 1)"
   ]
  },
  {
   "cell_type": "code",
   "execution_count": null,
   "metadata": {},
   "outputs": [],
   "source": [
    "for each in X_train.columns:\n",
    "    print(each)"
   ]
  },
  {
   "cell_type": "markdown",
   "metadata": {},
   "source": [
    "### HYPER PARAMETER TUNING"
   ]
  },
  {
   "cell_type": "code",
   "execution_count": null,
   "metadata": {},
   "outputs": [],
   "source": [
    "gridParams = {\n",
    "    'learning_rate': [0.01],\n",
    "    'boosting_type' : ['gbdt'],\n",
    "    'objective' : ['binary'],\n",
    "    'metric': ['auc'],\n",
    "    'subsample_freq': [1],\n",
    "    'num_leaves': [2**8],\n",
    "    'max_depth':[-1],\n",
    "    'tree_learner':['serial'],\n",
    "    'colsample_bytree': [0.8,0.9,1],\n",
    "    'subsample':[0.8,0.9,1],\n",
    "    'n_estimators':[20000],\n",
    "     'max_bin':[255,500],\n",
    "     'verbose':[10],\n",
    "   'reg_alpha' : [1,1.2,5],\n",
    "    'reg_lambda' : [1,1.2,5]\n",
    "    }"
   ]
  },
  {
   "cell_type": "code",
   "execution_count": null,
   "metadata": {
    "scrolled": true
   },
   "outputs": [],
   "source": [
    "clf = lgb.LGBMClassifier()\n",
    "grid = RandomizedSearchCV(clf,gridParams,verbose=20,cv=3,n_jobs = 1,n_iter=5)\n",
    "grid.fit(X_train,y)"
   ]
  },
  {
   "cell_type": "markdown",
   "metadata": {},
   "source": [
    "### SIMPLE LGB MODEL WITH ONE MONTHS VALIDATION"
   ]
  },
  {
   "cell_type": "code",
   "execution_count": 3,
   "metadata": {},
   "outputs": [],
   "source": [
    "X_train= pd.read_pickle('X_train_lgb_crs_val.pickle')\n",
    "X_test = pd.read_pickle('X_test_lgb_crs_val.pickle')"
   ]
  },
  {
   "cell_type": "code",
   "execution_count": 4,
   "metadata": {
    "scrolled": true
   },
   "outputs": [],
   "source": [
    "### Use the last month for validation\n",
    "### https://www.kaggle.com/kyakovlev/ieee-cv-options\n",
    "import datetime\n",
    "START_DATE = datetime.datetime.strptime('2017-11-30', '%Y-%m-%d')\n",
    "X_train['DT_M'] = X_train['TransactionDT'].apply(lambda x: (START_DATE + datetime.timedelta(seconds = x)))\n",
    "X_train['DT_M'] = (X_train['DT_M'].dt.year-2017)*12 + X_train['DT_M'].dt.month \n",
    "\n",
    "X_valid = X_train[X_train['DT_M']==X_train['DT_M'].max()].reset_index(drop=True)\n",
    "X_train = X_train[X_train['DT_M']<(X_train['DT_M'].max())].reset_index(drop=True)\n",
    "# X_test = X_test.drop(['DT_M'], axis = 1)\n"
   ]
  },
  {
   "cell_type": "code",
   "execution_count": 5,
   "metadata": {},
   "outputs": [],
   "source": [
    "y= X_train['isFraud']\n",
    "Y_valid =X_valid['isFraud']\n",
    "test_id_to_be_used =X_test['TransactionID']\n",
    "\n",
    "## Drop Categorical Variables that we mean encoded, the target and the item codes.\n",
    "columns_to_drop = ['TransactionAmt','TransactionDT','isFraud','Date', 'TransactionID']\n",
    "X_train= X_train.drop(columns_to_drop, axis = 1)\n",
    "X_valid = X_valid.drop(columns_to_drop, axis = 1)\n",
    "X_test = X_test.drop(columns_to_drop, axis = 1)\n"
   ]
  },
  {
   "cell_type": "markdown",
   "metadata": {},
   "source": [
    "### Cross Validation "
   ]
  },
  {
   "cell_type": "code",
   "execution_count": 6,
   "metadata": {},
   "outputs": [],
   "source": [
    "X_train = X_train.drop('DT_M', axis = 1)\n",
    "X_valid = X_valid.drop('DT_M', axis = 1)"
   ]
  },
  {
   "cell_type": "code",
   "execution_count": 8,
   "metadata": {},
   "outputs": [],
   "source": [
    "object_columns = []\n",
    "for each in X_train.columns:\n",
    "    if X_train[each].dtype == 'object':\n",
    "        object_columns.append(each)\n",
    "X_train = X_train.drop(object_columns, axis = 1)\n",
    "X_valid = X_valid.drop(object_columns, axis = 1)\n",
    "X_test = X_test.drop(object_columns, axis = 1)"
   ]
  },
  {
   "cell_type": "code",
   "execution_count": 9,
   "metadata": {},
   "outputs": [],
   "source": [
    "########################### Model params\n",
    "# These parameters we will keep untouched\n",
    "# for each lgbm model\n",
    "# the unique param that we will look at\n",
    "# is n_estimators\n",
    "\n",
    "SEED = 1115\n",
    "lgb_params = {\n",
    "                    'objective':'binary',\n",
    "                    'boosting_type':'gbdt',\n",
    "                    'metric':'auc',\n",
    "                    'n_jobs':-1,\n",
    "                    'learning_rate':0.01,\n",
    "                    'num_leaves': 2**8,\n",
    "                    'max_depth':-1,\n",
    "                    'tree_learner':'serial',\n",
    "                    'colsample_bytree': 0.8,\n",
    "                    'subsample_freq':1,\n",
    "                    'subsample':0.8,\n",
    "                    'n_estimators':20000,\n",
    "                    'max_bin':255,\n",
    "                    'verbose':10,\n",
    "                    'seed': SEED,\n",
    "                    'early_stopping_rounds':100, \n",
    "                } "
   ]
  },
  {
   "cell_type": "code",
   "execution_count": 10,
   "metadata": {
    "scrolled": true
   },
   "outputs": [
    {
     "name": "stdout",
     "output_type": "stream",
     "text": [
      "####################\n",
      "LBO training...\n",
      "Fold: 1\n"
     ]
    },
    {
     "name": "stderr",
     "output_type": "stream",
     "text": [
      "C:\\Users\\nanka\\AppData\\Local\\Continuum\\anaconda3\\lib\\site-packages\\lightgbm\\engine.py:118: UserWarning: Found `n_estimators` in params. Will use it instead of argument\n",
      "  warnings.warn(\"Found `{}` in params. Will use it instead of argument\".format(alias))\n",
      "C:\\Users\\nanka\\AppData\\Local\\Continuum\\anaconda3\\lib\\site-packages\\lightgbm\\engine.py:123: UserWarning: Found `early_stopping_rounds` in params. Will use it instead of argument\n",
      "  warnings.warn(\"Found `{}` in params. Will use it instead of argument\".format(alias))\n"
     ]
    },
    {
     "name": "stdout",
     "output_type": "stream",
     "text": [
      "Training until validation scores don't improve for 100 rounds.\n",
      "[1000]\ttraining's auc: 0.999792\tvalid_1's auc: 0.937235\n",
      "Early stopping, best iteration is:\n",
      "[1472]\ttraining's auc: 0.999991\tvalid_1's auc: 0.937751\n",
      "Fold: 2\n",
      "Training until validation scores don't improve for 100 rounds.\n",
      "[1000]\ttraining's auc: 0.99978\tvalid_1's auc: 0.936603\n",
      "Early stopping, best iteration is:\n",
      "[1293]\ttraining's auc: 0.999965\tvalid_1's auc: 0.936934\n",
      "Fold: 3\n",
      "Training until validation scores don't improve for 100 rounds.\n",
      "[1000]\ttraining's auc: 0.999791\tvalid_1's auc: 0.935561\n",
      "Early stopping, best iteration is:\n",
      "[911]\ttraining's auc: 0.999639\tvalid_1's auc: 0.935689\n",
      "Fold: 4\n",
      "Training until validation scores don't improve for 100 rounds.\n",
      "[1000]\ttraining's auc: 0.999769\tvalid_1's auc: 0.936761\n",
      "Early stopping, best iteration is:\n",
      "[1499]\ttraining's auc: 0.999991\tvalid_1's auc: 0.93782\n",
      "Fold: 5\n",
      "Training until validation scores don't improve for 100 rounds.\n",
      "[1000]\ttraining's auc: 0.99977\tvalid_1's auc: 0.936511\n",
      "Early stopping, best iteration is:\n",
      "[1149]\ttraining's auc: 0.999902\tvalid_1's auc: 0.936695\n",
      "##########\n",
      "Mean Best round: 1264\n",
      "Fold: 1\n",
      "Fold: 2\n",
      "Fold: 3\n",
      "Fold: 4\n",
      "Fold: 5\n"
     ]
    }
   ],
   "source": [
    "###https://www.kaggle.com/kyakovlev/ieee-cv-options\n",
    "\n",
    "print('#'*20)\n",
    "print('LBO training...') \n",
    "\n",
    "## We need Divide Train Set by Time blocks\n",
    "## Convert TransactionDT to Months\n",
    "# ## And use last month as Validation\n",
    "# train_df['DT_M'] = train_df['TransactionDT'].apply(lambda x: (START_DATE + datetime.timedelta(seconds = x)))\n",
    "# train_df['DT_M'] = (train_df['DT_M'].dt.year-2017)*12 + train_df['DT_M'].dt.month \n",
    "\n",
    "# main_train_set = train_df[train_df['DT_M']<(train_df['DT_M'].max())].reset_index(drop=True)\n",
    "# validation_set = train_df[train_df['DT_M']==train_df['DT_M'].max()].reset_index(drop=True)\n",
    "\n",
    "main_train_set = X_train\n",
    "validation_set = X_valid\n",
    "TARGET = y\n",
    "N_SPLITS = 5\n",
    "#RESULTS = X_test[test_id_to_be_used,]\n",
    "\n",
    "\n",
    "\n",
    "## We will use oof kfold to find \"best round\"\n",
    "folds = KFold(n_splits=N_SPLITS, shuffle=True, random_state=SEED)\n",
    "\n",
    "# Main Data\n",
    "X,y = main_train_set, y\n",
    "\n",
    "# Validation Data\n",
    "v_X, v_y = validation_set, Y_valid\n",
    "\n",
    "estimators_bestround = []\n",
    "for fold_, (trn_idx, val_idx) in enumerate(folds.split(X, y)):\n",
    "    print('Fold:',fold_+1)\n",
    "    tr_x, tr_y = X.iloc[trn_idx,:], y[trn_idx]    \n",
    "    train_data = lgb.Dataset(tr_x, label=tr_y)\n",
    "    valid_data = lgb.Dataset(v_X, label=v_y)  \n",
    "\n",
    "    estimator = lgb.train(\n",
    "            lgb_params,\n",
    "            train_data,\n",
    "            valid_sets = [train_data, valid_data],\n",
    "            verbose_eval = 1000,\n",
    "        )\n",
    "    estimators_bestround.append(estimator.current_iteration())\n",
    "\n",
    "## Now we have \"mean Best round\" and we can train model on full set\n",
    "corrected_lgb_params = lgb_params.copy()\n",
    "corrected_lgb_params['n_estimators'] = int(np.mean(estimators_bestround))\n",
    "corrected_lgb_params['early_stopping_rounds'] = None\n",
    "print('#'*10)\n",
    "print('Mean Best round:', corrected_lgb_params['n_estimators'])\n",
    "\n",
    "# Main Data\n",
    "X,y = main_train_set, y\n",
    "\n",
    "# Test Data\n",
    "P = X_test\n",
    "#RESULTS['lbo'] = 0\n",
    "\n",
    "for fold_, (trn_idx, val_idx) in enumerate(folds.split(X, y)):\n",
    "    print('Fold:',fold_+1)\n",
    "    tr_x, tr_y = X.iloc[trn_idx,:], y[trn_idx]\n",
    "    train_data = lgb.Dataset(tr_x, label=tr_y)\n",
    "\n",
    "    estimator = lgb.train(\n",
    "            corrected_lgb_params,\n",
    "            train_data\n",
    "        )"
   ]
  },
  {
   "cell_type": "code",
   "execution_count": 11,
   "metadata": {
    "scrolled": true
   },
   "outputs": [
    {
     "data": {
      "text/plain": [
       "<matplotlib.axes._subplots.AxesSubplot at 0x26b29be32b0>"
      ]
     },
     "execution_count": 11,
     "metadata": {},
     "output_type": "execute_result"
    },
    {
     "data": {
      "image/png": "[encoded data removed]",
      "text/plain": [
       "<Figure size 432x288 with 1 Axes>"
      ]
     },
     "metadata": {
      "needs_background": "light"
     },
     "output_type": "display_data"
    }
   ],
   "source": [
    "lgb.plot_importance(estimator,max_num_features =20)"
   ]
  },
  {
   "cell_type": "code",
   "execution_count": 12,
   "metadata": {},
   "outputs": [
    {
     "data": {
      "text/plain": [
       "(89326, 508)"
      ]
     },
     "execution_count": 12,
     "metadata": {},
     "output_type": "execute_result"
    }
   ],
   "source": [
    "X_valid.shape"
   ]
  },
  {
   "cell_type": "code",
   "execution_count": 14,
   "metadata": {},
   "outputs": [
    {
     "data": {
      "text/plain": [
       "(501214, 508)"
      ]
     },
     "execution_count": 14,
     "metadata": {},
     "output_type": "execute_result"
    }
   ],
   "source": [
    "X_train.shape"
   ]
  },
  {
   "cell_type": "code",
   "execution_count": 13,
   "metadata": {},
   "outputs": [
    {
     "data": {
      "text/plain": [
       "(506691, 508)"
      ]
     },
     "execution_count": 13,
     "metadata": {},
     "output_type": "execute_result"
    }
   ],
   "source": [
    "X_test.shape"
   ]
  },
  {
   "cell_type": "code",
   "execution_count": null,
   "metadata": {},
   "outputs": [],
   "source": [
    "Y_pred = estimator.predict(X_test)"
   ]
  },
  {
   "cell_type": "code",
   "execution_count": 23,
   "metadata": {},
   "outputs": [],
   "source": [
    "Y_pred = estimator.predict(X_test)\n",
    "submission = pd.DataFrame({\n",
    "    \"TransactionID\": test_id_to_be_used, \n",
    "    \"isFraud\": Y_pred\n",
    "})\n",
    "submission.to_csv('lgb_submission 10.csv', index=False)"
   ]
  },
  {
   "cell_type": "code",
   "execution_count": null,
   "metadata": {},
   "outputs": [],
   "source": []
  }
 ],
 "metadata": {
  "kernelspec": {
   "display_name": "Python 3",
   "language": "python",
   "name": "python3"
  },
  "language_info": {
   "codemirror_mode": {
    "name": "ipython",
    "version": 3
   },
   "file_extension": ".py",
   "mimetype": "text/x-python",
   "name": "python",
   "nbconvert_exporter": "python",
   "pygments_lexer": "ipython3",
   "version": "3.7.4"
  }
 },
 "nbformat": 4,
 "nbformat_minor": 2
}
